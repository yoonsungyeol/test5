{
 "cells": [
  {
   "cell_type": "markdown",
   "metadata": {},
   "source": [
    "## 1번문제"
   ]
  },
  {
   "cell_type": "markdown",
   "metadata": {},
   "source": [
    " - 클래스와 모듈의 공통점과 차이점에 대해 설명하시오."
   ]
  },
  {
   "cell_type": "markdown",
   "metadata": {},
   "source": [
    "    - 클래스와 모듈의 차이점은 모듈은 파일 단위로 이름 공간을 구성하는 반면에 클래스는 클래스 영역 내에서 이름공간을 구성한다. 또한 모듈은 function사용시에 선언없이 사용이 가능 하지만 클래스는 function 사용시에 선언이 필요하다. 공통점으로는 안에 데이터와 함수를 정의 할 수 있다는 것이다."
   ]
  },
  {
   "cell_type": "markdown",
   "metadata": {},
   "source": [
    "## 2번문제"
   ]
  },
  {
   "cell_type": "markdown",
   "metadata": {},
   "source": [
    " - 다형성에 대해 설명하고 다형성을 보여주는 자신만의 파이썬 코드 예제를 제시하시오."
   ]
  },
  {
   "cell_type": "markdown",
   "metadata": {},
   "source": [
    "    - 다형성이란? \n",
    "      서로 다른 클래스가 있을 때 그 각각의 클래스 안에서 같은 이름의 멤버함수로 호출하고 다르게 결과를 초래하도록 하는 것이다."
   ]
  },
  {
   "cell_type": "code",
   "execution_count": 1,
   "metadata": {},
   "outputs": [
    {
     "name": "stdout",
     "output_type": "stream",
     "text": [
      "round draw\n",
      "rectangle draw\n",
      "triangle draw\n"
     ]
    }
   ],
   "source": [
    "class Shape:\n",
    "    def draw(self):\n",
    "        print(\"...\")\n",
    "        \n",
    "class Round:\n",
    "    def draw(self):\n",
    "        print(\"round draw\")\n",
    "\n",
    "class Rectangle:\n",
    "    def draw(self):\n",
    "        print(\"rectangle draw\")\n",
    "        \n",
    "class Triangle:\n",
    "    def draw(self):\n",
    "        print(\"triangle draw\")\n",
    "        \n",
    "for x in (Round(), Rectangle(), Triangle()):\n",
    "    x.draw()"
   ]
  },
  {
   "cell_type": "markdown",
   "metadata": {},
   "source": [
    "    <설명>\n",
    "     - class로 모양을 대표하는 Shape을 만들고 draw라는 함수를 정의합니다.\n",
    "     - 모양을 나타내는 원, 사각형, 삼각형을 class로 따로따로 만들어 draw를 다시 정의해줍니다.\n",
    "     - class를 모두 정의했으면 마지막에 for()으로 각클래스의 draw()를 실행하여 결과를 확인합니다."
   ]
  },
  {
   "cell_type": "markdown",
   "metadata": {},
   "source": [
    "## 3번문제"
   ]
  },
  {
   "cell_type": "markdown",
   "metadata": {},
   "source": [
    " - 다음 각 요구사항 모두를 만족시키는 Counter 클래스를 코딩하시오 (정답을 각 요구사항별로 입력할 필요 없이 3번 문제에 대해 1개의 클래스 정의 코드를 제시하면 된다.)\n",
    "       요구사항 1. 생성자에 count 값과 step 값을 인자로 받을 수 있다.\n",
    "       \n",
    "       요구사항 2. 다음과 같이 Counter의 인스턴스를 출력을 해주는 __str__() 메소드를 Counter 클래스 내에 구현하시오.\n",
    "       \n",
    "       요구사항 3. 다음과 같이 step에 주어진 증분만큼 count를 증가시키는 incr() 메소드를 Counter 클래스 내에 구현하시오.\n",
    "       \n",
    "       요구사항 4. Counter 클래스 내에 관련 메소드를 추가하여 인스턴스 객체를 직접 호출(call)할 수 있도록 하시오. 인스턴스 객체를 직접 호출했을 때에 내부적으로 incr() 메소드를 호출하는 방법으로 구현하시오.\n",
    "       \n",
    "       요구사항 5. 다음과 같은 두 개의 산술 연산 (+, -)이 수행될 수 있도록 Counter 클래스 내에 관련 메소드를 추가하시오.\n",
    "       \n",
    "       요구사항 6. 다음과 같은 관계연산 (>, <, ==)이 수행될 수 있도록 Counter 클래스 내에 관련 메소드를 추가하시오."
   ]
  },
  {
   "cell_type": "code",
   "execution_count": 1,
   "metadata": {},
   "outputs": [
    {
     "name": "stdout",
     "output_type": "stream",
     "text": [
      "[Count (step:1)] 10\n",
      "[Count (step:2)] 10\n",
      "[Count (step:1)] 11\n",
      "[Count (step:2)] 12\n",
      "[Count (step:1)] 12\n",
      "[Count (step:2)] 14\n",
      "[Count (step:1)] 17\n",
      "[Count (step:2)] 9\n"
     ]
    }
   ],
   "source": [
    "class Counter:\n",
    "    def __init__(self,count, step = 1):\n",
    "        self.count = count\n",
    "        self.step = step\n",
    "    def __str__(self):\n",
    "        return \"[Count (step:%d)] %d\"%(self.step,self.count)\n",
    "    def incr(self):\n",
    "        self.count += self.step\n",
    "    def __call__(self):\n",
    "        self.incr()\n",
    "    def __add__(self, num):\n",
    "        self.count += num \n",
    "        return \"[Count (step:%d)] %d\"%(self.step,self.count)  \n",
    "    def __sub__(self, num):\n",
    "        self.count -= num\n",
    "        return \"[Count (step:%d)] %d\"%(self.step,self.count)  \n",
    "   \n",
    "c = Counter(10)\n",
    "d = Counter(10,2)\n",
    "print(c)\n",
    "print(d)\n",
    "c.incr()\n",
    "d.incr()\n",
    "print(c)\n",
    "print(d)\n",
    "c()\n",
    "d()\n",
    "print(c)\n",
    "print(d)\n",
    "c = c + 5\n",
    "d = d - 5\n",
    "print(c)\n",
    "print(d)"
   ]
  },
  {
   "cell_type": "markdown",
   "metadata": {},
   "source": [
    "    <설명>\n",
    "    - Count라는 클래스를 생성합니다.\n",
    "    - __init__으로 생성자를 생성하고 count와 step을 받아오는데 step은 1로 지정해줍니다.\n",
    "    _ __str__으로 출력함수를 정의해주고 count와 step을 출력하도록 합니다.\n",
    "    - incr()을 정의하는데 함수가 실행되면 count에 step값이 더해지도록 합니다.\n",
    "    - __call__을 통해 callable이 가능하도록 하고 함수가 실행되면 incr()가 작동하도록 정의합니다.\n",
    "    - __add__로 연산자함수를 정의해주는데 객체와 어떤 숫자가 더해지면 객체의 count와 숫자가 더해지도록 정의합니다.\n",
    "    - __sub__도 add와 비슷하게 객체와 어떤 숫자가 뺄셈이 되면 객체의 count에서 입력된 숫자가 빼지도록 정의합니다.\n",
    "    - c를 count:10에 step:1로 설정하고 d를 count:10에 setp:2로 설정합니다. 그리고 각 함수를 실행하여 결과가 잘 되는지 확인합니다."
   ]
  },
  {
   "cell_type": "code",
   "execution_count": 45,
   "metadata": {},
   "outputs": [
    {
     "name": "stdout",
     "output_type": "stream",
     "text": [
      "True\n",
      "False\n",
      "False\n",
      "True\n",
      "True\n",
      "False\n"
     ]
    }
   ],
   "source": [
    "class Count:\n",
    "    def __init__(self,count, step = 1):\n",
    "        self.count = count\n",
    "        self.step = step\n",
    "    def __gt__(self, num):\n",
    "        if self.count > num:\n",
    "            return True\n",
    "        elif self.count < num:\n",
    "            return False\n",
    "    def __lt__(self, num):\n",
    "        if self.count < num:\n",
    "            return True\n",
    "        elif self.count > num:\n",
    "            return False\n",
    "    def __eq__(self, num):\n",
    "        if self.count == num:\n",
    "            return True\n",
    "        else:\n",
    "            return False\n",
    "    def __ne__(self, num):\n",
    "        if self.count != num:\n",
    "            return True\n",
    "        elif self.count == num:\n",
    "            return False\n",
    "c = Count(17)\n",
    "d = Count(9,2)\n",
    "print(c>10)\n",
    "print(d>10)\n",
    "print(c<10)\n",
    "print(d<10)\n",
    "print(c==17)\n",
    "print(d!=9)"
   ]
  },
  {
   "cell_type": "markdown",
   "metadata": {},
   "source": [
    "    <설명>\n",
    "    - 비교 연산자 <, >, ==, !=을 함수로 정의합니다.\n",
    "    - 각각 함수의 인자는 self와 num을 갖고 있고 if문으로 self의 count와 입력된 num을비교해서 성립이 되면 true를 안되면 false를 반환하도록 합니다.\n",
    "    - 마지막에 c의 count를 17로 하여 설정해주고 d의 count를 9로 step을 2로 하여 각 비교연산자를 이용해 봅니다. "
   ]
  },
  {
   "cell_type": "markdown",
   "metadata": {
    "collapsed": true
   },
   "source": [
    "## 4번문제"
   ]
  },
  {
   "cell_type": "markdown",
   "metadata": {},
   "source": [
    " - 다음은 내장 자료형 list를 서브클래싱하여 만든 MySet 클래스 정의 내용이다. 다음 클래스 정의에서 __init__(), __str()__(), elimicate_duplicate()의 세 개의 메소드 코드 내용을 자신이 다른 사람에게 가르친다고 생각하며 설명해보시오."
   ]
  },
  {
   "cell_type": "code",
   "execution_count": 1,
   "metadata": {},
   "outputs": [
    {
     "name": "stdout",
     "output_type": "stream",
     "text": [
      "MySet: {1 ,2 ,3}\n",
      "MySet: {2 ,3 ,4 ,5 ,6 ,7 ,8 ,9}\n"
     ]
    }
   ],
   "source": [
    "class MySet(list):\n",
    "    def __init__(self, l):\n",
    "        for e in l:\n",
    "            self.append(e)\n",
    "        MySet.eliminate_duplicate(self)\n",
    "    \n",
    "    def __str__(self):\n",
    "        result = \"MySet: {\"\n",
    "        for e in self:\n",
    "            result = result + str(e) + \" ,\"\n",
    "        result = result[0:len(result)-2] + \"}\"\n",
    "        return result\n",
    "\n",
    "    @staticmethod    \n",
    "    def eliminate_duplicate(l):\n",
    "        s = []\n",
    "        for e in l:\n",
    "            if e not in s:\n",
    "                s.append(e)\n",
    "        l[:] = []\n",
    "        for e in s:\n",
    "            l.append(e)\n",
    "\n",
    "    \n",
    "if __name__ == \"__main__\":\n",
    "    s = MySet([1, 2, 2, 3])\n",
    "    print(s)\n",
    "    t = MySet([2, 3, 4, 5, 6, 7, 8, 8, 8, 8, 8, 9])\n",
    "    print(t)"
   ]
  },
  {
   "cell_type": "markdown",
   "metadata": {
    "collapsed": true
   },
   "source": [
    "    <설명>\n",
    "     init() : 생성자로서 객체를 생성하고 MySet()이라는 함수를 사용했을 때 발생합니다. 함수 안에 집어넣은 리스트의 원소들을 모두 append를 이용하여 생성한 객체의 공간에 넣습니다. 그리고 이 객체를 eliminate_duplicate()를 통해 공통된 숫자들을 없애도록 합니다.\n",
    "     \n",
    "     str() : print와 같이 호출 할 때 발생하는 것으로 들어온 값들을 문자열로 해서 반환해 줍니다. 우선 처음에 보면 result라는 변수에 \"MySet: {\"이라는 문자열을 넣었고 인자로 받아온 객체의 원소들을 하나씩 가져와서 문자의 형태로 result에 추가합니다. 그리고 마지막에 '}'을 추가하여 결과값을 반환하도록 했습니다.\n",
    "     \n",
    "     eliminate_duplicate() : 새로운 리스트 변수s를 선언하고 인자로 가져온 리스트의 원소를 만든 s에 추가하다가 같은 값이 오면 넘어가도록 if문에 선언합니다. 만든 s 리스트를 인자로 받아온 l을 갈아없고 넣습니다."
   ]
  },
  {
   "cell_type": "markdown",
   "metadata": {},
   "source": [
    "## 5번문제"
   ]
  },
  {
   "cell_type": "markdown",
   "metadata": {},
   "source": [
    " - 4번 문제에 정의된 MySet 클래스에 메소드를 추가하여 다음 각 요구사항 모두를 만족시키는 코딩을 제시하시오.\n",
    "      - 정답을 각 요구사항별로 입력할 필요 없이 요구사항 3개 전체에 대해 1개의 MySet 클래스 정의 코드를 제시하고 주석등으로 해당 코드를 설명한다.\n",
    "      - 요구사항 1. | 연산으로 두 집합의 합집합을 반환한다.\n",
    "      - 요구사항 2. & 연산으로 두 집합의 교집합을 반환한다.\n",
    "      - 요구사항 3. - 연산으로 두 집합의 차집합을 반환한다."
   ]
  },
  {
   "cell_type": "code",
   "execution_count": 14,
   "metadata": {},
   "outputs": [
    {
     "name": "stdout",
     "output_type": "stream",
     "text": [
      "MySet: {1 ,2 ,3}\n",
      "MySet: {2 ,3 ,4 ,5 ,6 ,7 ,8 ,9}\n",
      "MySet: {1 ,2 ,3 ,4 ,5 ,6 ,7 ,8 ,9}\n",
      "MySet: {2 ,3}\n",
      "MySet: {1 ,2}\n"
     ]
    }
   ],
   "source": [
    "class MySet(list):\n",
    "    def __init__(self, l):\n",
    "        for e in l:\n",
    "            self.append(e)\n",
    "        MySet.eliminate_duplicate(self)\n",
    "    \n",
    "    def __str__(self):\n",
    "        result = \"MySet: {\"\n",
    "        for e in self:\n",
    "            result = result + str(e) + \" ,\"\n",
    "        result = result[0:len(result)-2] + \"}\"\n",
    "        return result\n",
    "\n",
    "    @staticmethod    \n",
    "    def eliminate_duplicate(l):\n",
    "        s = []\n",
    "        for e in l:\n",
    "            if e not in s:\n",
    "                s.append(e)\n",
    "        l[:] = []\n",
    "        for e in s:\n",
    "            l.append(e)\n",
    "    def __or__(self, other):\n",
    "        for e in other:\n",
    "            if e not in self:\n",
    "                self.append(e)\n",
    "                self.sort()\n",
    "        return self\n",
    "    def __and__(self, other):\n",
    "        s = []\n",
    "        for e in self:\n",
    "            if e in other:\n",
    "                s.append(e)\n",
    "                s.sort()\n",
    "        self[:] = []\n",
    "        for e in s:\n",
    "            self.append(e)\n",
    "        return self\n",
    "    def __sub__(self, other):\n",
    "        s = []\n",
    "        for e in self:\n",
    "                if e not in other:\n",
    "                    s.append(e)\n",
    "        s.sort()\n",
    "        self[:] = []\n",
    "        for e in s:\n",
    "            self.append(e)\n",
    "        return self\n",
    "\n",
    "    \n",
    "if __name__ == \"__main__\":\n",
    "    s = MySet([1, 2, 2, 3])\n",
    "    print(s)\n",
    "    t = MySet([2, 3, 4, 5, 6, 7, 8, 8, 8, 8, 8, 9])\n",
    "    print(t)\n",
    "    u = s | t\n",
    "    print(u)\n",
    "    s = MySet([1, 2, 2, 3])\n",
    "    u = s & t\n",
    "    print(u)\n",
    "    s = MySet([1, 2, 3]) \n",
    "    t = MySet([3, 4, 5]) \n",
    "    u = s - t \n",
    "    print(u) \n",
    "    "
   ]
  },
  {
   "cell_type": "markdown",
   "metadata": {},
   "source": [
    "    <설명>\n",
    "    - 4번의 MySet클래스에서 합집합(__or__), 교집합(__and__), 차집합(__sub__)를 정의합니다.\n",
    "    - 합집합에서는 연산자를 기준으로 전과 후로 놨을 때 후의 원소들을 하나씩 검사하여 전의 원소에 포함되는지를 for로 확인하고 만약에 없으면 전에 append를 이용하여 추가합니다. 추가 후 sort()로 숫자를 정렬하고 전을 반환합니다.\n",
    "    - 교집합에서는 새로운 리스트를 하나 만들고 for로 후의 원소들을 하나씩 검사하고 전의 원소에 있으면 새로운 리스트에 append로 추가한 후 모두 검사했으면 sort()로 정렬합니다. 후에 새로운 리스트를 반환합니다.\n",
    "    - 차집합은 새로운 리스트 s를 생성하고 전을 for문으로 원소를 하나씩 검사해서 원소가 후에 포함되어있지 않으면 s에 append로 추가되도록 합니다. 후에 s에 원소들을 전을 비운상태로 추가하여 전을 반환합니다."
   ]
  },
  {
   "cell_type": "markdown",
   "metadata": {},
   "source": [
    "## 6번문제"
   ]
  },
  {
   "cell_type": "markdown",
   "metadata": {},
   "source": [
    " - 5번 문제에서 정의한 MySet 클래스에 대해 다음 예제를 수행하면 오류없이 올바르게 동작하는 것을 확인할 수 있다. 다음 예제 내에 있는 len(), bool() 내장함수와 in 키워드 사용 예제가 별다른 메소드 정의를 하지 않았는 데도 올바르게 수행되는 이유를 설명하시오."
   ]
  },
  {
   "cell_type": "code",
   "execution_count": 18,
   "metadata": {},
   "outputs": [
    {
     "name": "stdout",
     "output_type": "stream",
     "text": [
      "6\n",
      "True\n",
      "True\n"
     ]
    }
   ],
   "source": [
    "class MySet(list):\n",
    "    def __init__(self, l):\n",
    "        for e in l:\n",
    "            self.append(e)\n",
    "        MySet.eliminate_duplicate(self)\n",
    "    \n",
    "    def __str__(self):\n",
    "        result = \"MySet: {\"\n",
    "        for e in self:\n",
    "            result = result + str(e) + \" ,\"\n",
    "        result = result[0:len(result)-2] + \"}\"\n",
    "        return result\n",
    "\n",
    "    @staticmethod    \n",
    "    def eliminate_duplicate(l):\n",
    "        s = []\n",
    "        for e in l:\n",
    "            if e not in s:\n",
    "                s.append(e)\n",
    "        l[:] = []\n",
    "        for e in s:\n",
    "            l.append(e)\n",
    "    def __or__(self, other):\n",
    "        for e in other:\n",
    "            if e not in self:\n",
    "                self.append(e)\n",
    "                self.sort()\n",
    "        return self\n",
    "    def __and__(self, other):\n",
    "        s = []\n",
    "        for e in self:\n",
    "            if e in other:\n",
    "                s.append(e)\n",
    "                s.sort()\n",
    "        self[:] = []\n",
    "        for e in s:\n",
    "            self.append(e)\n",
    "        return self\n",
    "    def __sub__(self, other):\n",
    "        s = []\n",
    "        for e in self:\n",
    "                if e not in other:\n",
    "                    s.append(e)\n",
    "        s.sort()\n",
    "        self[:] = []\n",
    "        for e in s:\n",
    "            self.append(e)\n",
    "        return self\n",
    "\n",
    "    \n",
    "if __name__ == \"__main__\":\n",
    "    s = MySet([1, 2, 3, 4, 5, 6])\n",
    "    print(len(s))\n",
    "    print(bool(s))\n",
    "    print(2 in s)\n"
   ]
  },
  {
   "cell_type": "markdown",
   "metadata": {},
   "source": [
    "    <이유>\n",
    "    - 내장자료형을 list로 넣었기 때문에 시퀀스 자료형에서 사용할 수 있는 len이나 bool이나 in을 지원하여 메소드를 정의하지 않아도 결과를 구할 수 있다."
   ]
  },
  {
   "cell_type": "markdown",
   "metadata": {},
   "source": [
    "## 7번문제"
   ]
  },
  {
   "cell_type": "markdown",
   "metadata": {},
   "source": [
    " - 이전 Assignment 3 (Assignment 4가 아님)의 마지막 문제는 웹 URL로 지정된 웹페이지를 문자열로 가져와 모든 HTML 태그 및 CSS와 Javascript를 제외한 순수 텍스트를 얻어내고 그 안에 존재하는 단어를 추출하여 각 단어들에 대해 출현빈도를 사전형태({'world': 2, 'hello': 1, 'python': 1})로 저장하여 출력하는 것이었다. 이번에는 Assignment 3을 다시 확장/변형하여 다음과 같은 조건을 만족하도록 구현하시오.\n",
    "       1) 새로운 클래스 WebWordsFrequency를 정의하시오.\n",
    "       2) 생성자에 URL을 0개에서 임의의 개수를 넣을 수 있도록 생성자 인수를 가변인수로 정의하여 각각의 URL을 리스트 자료형에 유지하시오.\n",
    "       3) addUrl() 메소드를 구현하여 인스턴스를 생성한 이후에도 URL을 추가할 수 있도록 한다.\n",
    "       4) removeUrl() 메소드를 구현하여 URL을 삭제할 수 있도록 한다.\n",
    "       5) listUrls() 메소드를 구현하여 현재 등록된 모든 URL을 출력하는 기능을 추가\n",
    "       6) getWordsFrequency() 메소드를 구현하여 각 URL의 웹페이지들을 종합적으로 분석한 단어 출현 빈도 사전을 반환하시오.\n",
    "       7) getMaxFreqencyWords() 메소드를 구현하여 각 URL의 웹페이지들을 종합적으로 분석한 단어 출현 빈도 사전에서 가장 많이 출현한 단어 리스트를 반환하시오.\n",
    "       8) 임의의 단어 1개를 파라미터로 받는 searchUrlByWord() 메소드를 구현하여 유사도가 높은 웹 사이트를 출력하시오."
   ]
  },
  {
   "cell_type": "code",
   "execution_count": 47,
   "metadata": {},
   "outputs": [
    {
     "name": "stdout",
     "output_type": "stream",
     "text": [
      "http://www.times.com\n",
      "https://www.amazon.com\n",
      "https://github.com\n",
      "{'York': 11, 'Times': 14, 'Breaking': 1, 'News': 7, 'World': 4, 'Multimedia': 2, 'NYTimescom': 2, 'supports': 1, 'Internet': 2, 'Explorer': 1, '9': 1, 'earlier': 1, 'Please': 2, 'upgrade': 1, 'browser': 1, 'LEARN': 1, 'MORE': 1, '»': 4, 'Sections': 4, 'Search': 6, 'Skip': 2, 'content': 1, 'navigation': 1, 'Subscribe': 5, 'Log': 1, '0': 1, 'Settings': 1, 'English': 1, '中文': 1, 'Chinese': 1, 'Español': 1, 'Sunday': 2, 'December': 3, '10': 5, '2017': 13, 'Today’s': 2, 'Paper': 2, 'Video': 7, 'Quick': 1, 'Site': 10, 'Navigation': 7, 'US': 7, 'Politics': 6, 'NY': 2, 'Business': 4, 'Opinion': 11, 'Tech': 3, 'Science': 4, 'Health': 6, 'Sports': 4, 'Arts': 6, 'Style': 5, 'Food': 5, 'Travel': 4, 'Magazine': 6, 'Real': 5, 'Estate': 5, 'Close': 1, 'search': 1, 'text': 1, 'input': 1, 'Mobile': 3, 'Top': 3, 'Inside': 3, 'Trump’s': 6, 'HourbyHour': 1, 'Battle': 1, 'SelfPreservation': 1, 'MAGGIE': 1, 'HABERMAN': 1, 'GLENN': 1, 'THRUSH': 1, 'PETER': 1, 'BAKER': 1, 'Twitter': 1, 'Excalibur': 1, 'President': 5, 'Trump': 5, 'takes': 1, 'doubters': 1, 'powered': 1, 'Diet': 1, 'Coke': 1, 'spells': 1, 'cable': 1, 'news': 2, 'despite': 1, 'bluster': 1, 'views': 1, 'maligned': 1, 'outsider': 1, 'engaged': 1, 'struggle': 1, 'seriously': 1, 'according': 1, 'interviews': 1, '60': 1, 'insiders': 1, 'nbspComments': 5, 'Related': 1, 'Coverage': 1, 'Rejecting': 2, 'Calls': 2, 'Stay': 4, 'Speaks': 2, 'Civil': 2, 'Rights': 2, 'Museum': 2, '2020': 2, 'Census': 3, 'Looming': 2, 'Concerns': 1, 'Grow': 1, 'Accuracy': 2, 'MICHAEL': 1, 'WINES': 1, 'officials': 1, 'scrapping': 1, 'mailin': 1, 'forms': 1, 'online': 1, 'count': 2, 'money': 1, 'public’s': 2, 'trust': 2, 'accurate': 1, 'head': 1, 'They’re': 1, 'short': 1, 'Jerusalem': 5, 'Life': 2, 'Filled': 1, 'Stress': 1, 'Uncertainty': 1, 'DAVID': 2, 'HALBFINGER': 1, 'residents': 1, 'world': 3, 'battling': 1, 'thousands': 1, 'everyday': 1, 'frictions': 1, 'draining': 1, 'Interpreter': 1, 'Decision': 1, 'Explained': 1, 'MAX': 1, 'FISHER': 1, 'recognition': 1, 'Israel’s': 1, 'capital': 1, 'means': 1, 'city': 2, 'conflict': 1, 'Alabama': 4, '‘Never': 2, 'Seen': 2, 'This’': 2, 'CAMPBELL': 1, 'ROBERTSON': 1, 'JONATHAN': 1, 'MARTIN': 1, 'wild': 1, 'ugly': 1, 'campaign': 2, 'Senate': 3, 'Roy': 1, 'Moore': 1, 'Doug': 1, 'Jones': 1, 'fraught': 1, 'incendiary': 1, 'comments': 1, 'molestation': 1, 'claims': 1, 'left': 3, 'veterans': 1, 'state’s': 1, 'politics': 1, 'searching': 1, 'parallels': 1, 'Issues': 2, 'Overlooked': 2, 'Race': 2, 'Defined': 2, 'Scandal': 2, 'ALAN': 1, 'BLINDER': 1, 'JESS': 1, 'BIDGOOD': 1, 'RICHARD': 1, 'FAUSSET': 1, 'struggles': 1, 'health': 1, 'care': 1, 'education': 1, 'infrastructure': 1, 'issues': 1, 'wayside': 1, 'salacious': 1, 'details': 1, 'emerged': 1, 'Washington': 2, 'Arctic': 2, 'Drilling': 2, 'Stymied': 2, 'Decades': 2, 'Returned': 1, 'Tax': 4, 'Bill': 2, 'CARL': 1, 'HULSE': 1, 'Advocates': 1, 'oil': 1, 'exploration': 1, 'Alaska': 1, 'wildlife': 1, 'refuge': 1, 'taking': 1, 'advantage': 1, 'special': 1, 'rules': 1, 'tax': 1, 'debate': 1, 'charge': 1, 'victory': 1, 'Plan': 2, 'Help': 4, 'CoWorker': 2, '222': 1, 'Bears': 2, 'Ears': 2, 'Indigenous': 1, 'Voices': 1, 'KC': 1, 'McGinnis': 1, 'Daily': 2, '360': 1, 'confidential': 1, 'tip': 1, 'offers': 2, 'touch': 1, 'provide': 1, 'materials': 1, 'journalists': 1, 'Learn': 2, 'Andy': 1, 'Serkis': 1, 'director': 1, 'Rian': 1, 'Johnson': 1, 'Domhnall': 1, 'Gleeson': 1, 'Laura': 1, 'Dern': 1, 'Gwendoline': 1, 'Christie': 2, 'Oscar': 1, 'Isaac': 1, 'Daisy': 2, 'Ridley': 2, 'Adam': 2, 'Driver': 2, 'Mark': 1, 'Hamill': 1, 'John': 2, 'Boyega': 2, 'Kelly': 1, 'Marie': 1, 'Tran': 1, 'Credit': 1, 'Jesse': 1, 'Dittmar': 1, 'AllStars': 3, '‘Star': 3, 'Wars’': 3, '“Last': 1, 'Jedi”': 1, 'comrades': 1, 'discuss': 1, 'difficulties': 1, 'relationships': 1, 'joys': 1, 'villainy': 1, 'porgs': 1, 'DAVE': 1, 'ITZKOFF': 1, 'Rey’s': 1, 'Parents': 1, 'Theories': 1, 'Smarter': 1, 'Living': 2, 'Guide': 7, 'Managing': 1, 'Successful': 1, 'Team': 2, 'Here’s': 1, 'lay': 1, 'groundwork': 1, 'highly': 1, 'productive': 1, 'team': 1, 'communicate': 1, 'cooperate': 1, 'innovate': 1, 'atmosphere': 1, 'mutual': 1, 'respect': 1, 'Gingerbread': 1, 'House': 1, 'JULIA': 1, 'MOSKIN': 1, 'holiday': 1, 'project': 1, 'easier': 1, 'stepbystep': 1, 'guide': 1, 'bake': 1, 'build': 1, 'decorate': 1, 'dream': 1, 'home': 1, '300': 1, 'gifts': 1, '75': 1, 'editors': 1, '15': 1, 'categories': 1, 'Holiday': 4, 'Gift': 2, 'Journalism': 1, 'matters': 1, 'essential': 1, '11': 1, 'Weekend': 2, 'Reads': 2, 'heartmelting': 1, 'friendship': 1, 'built': 1, '60year': 1, 'age': 1, 'difference': 1, 'forgotten': 1, 'war': 1, 'orphan': 1, 'weird': 1, 'pot': 1, 'scene': 1, 'Los': 3, 'Angeles': 1, 'KALY': 1, 'SOTO': 1, 'California': 1, 'Haven': 1, 'Ringed': 1, 'Flames': 1, 'Covered': 1, 'Ash': 1, 'MIRIAM': 1, 'JORDAN': 1, 'Firefighters': 1, 'straining': 1, 'contain': 1, 'blazes': 1, 'Ojai': 1, 'Calif': 1, 'town': 1, 'healthy': 1, 'spiritual': 1, 'living': 1, 'Indonesia': 2, 'Women': 3, 'Fight': 1, '‘Epidemic’': 1, 'Harassment': 3, 'JOE': 1, 'COCHRANE': 1, 'Activist': 1, 'springing': 1, 'step': 1, 'exposing': 1, 'routine': 1, 'instances': 1, 'groping': 1, 'catcalling': 1, 'gone': 1, 'unreported': 1, 'Macron': 3, 'Steps': 2, 'Middle': 2, 'East': 2, 'Role': 2, 'Retreats': 2, 'ALISSA': 1, 'RUBIN': 1, 'Emmanuel': 1, 'France': 1, 'carving': 1, 'ambitious': 1, 'assertive': 1, 'global': 1, 'role': 1, 'United': 2, 'abandoning': 1, 'leadership': 1, 'Yankees': 4, 'Agree': 1, 'Trade': 1, 'Slugger': 1, 'Giancarlo': 2, 'Stanton': 3, 'WALDSTEIN': 1, 'National': 1, 'League’s': 1, 'valuable': 1, 'player': 1, 'adds': 1, 'powerful': 1, 'bat': 1, 'lineup': 1, 'Aaron': 2, 'Judge': 2, 'brings': 1, 'huge': 1, 'contract': 1, 'Anger': 1, 'Supplements’': 1, 'Claim': 2, 'Helping': 1, 'Addicts': 1, 'SHEILA': 1, 'KAPLAN': 1, 'Advocacy': 1, 'FDA': 1, 'warned': 1, 'companies': 1, 'capitalizing': 1, 'opioid': 1, 'epidemic': 1, 'offering': 1, 'unproven': 1, 'remedies': 1, 'subways': 1, 'slowed': 1, 'Chris': 1, 'time': 1, 'relax': 1, 'beach': 1, '47yearold': 1, 'murder': 1, 'solved': 1, 'stories': 1, 'Yorkers': 1, 'talking': 1, '92': 1, 'Somalis': 1, 'Deportation': 1, 'Flight': 1, 'James': 2, 'Levine': 2, 'Criminal': 2, 'Charges': 3, 'Illinois': 2, 'Saudi': 1, 'Arabia': 1, 'Denies': 1, 'Crown': 1, 'Prince': 1, 'Bought': 1, 'Art': 2, 'Heisman': 1, 'Trophy': 1, 'Goes': 1, 'Oklahoma': 1, 'Quarterback': 1, 'Baker': 2, 'Mayfield': 1, 'Readers': 1, 'Respond': 1, 'Harvey': 1, 'Weinstein’s': 1, 'Page': 2, 'Portrait': 1, 'DealBook': 2, 'Newsletter': 1, 'columnist': 1, 'Andrew': 1, 'Ross': 1, 'Sorkin': 1, 'colleagues': 2, 'help': 1, 'sense': 1, 'major': 1, 'business': 1, 'policy': 1, 'headlines': 1, '—': 2, 'power': 1, 'brokers': 1, 'shape': 1, 'allnew': 1, 'newsletter': 1, 'Edition': 2, 'Movies': 6, 'TV': 1, 'Netflix': 1, 'Australia': 2, 'titles': 1, 'coming': 1, 'service': 1, 'broken': 1, 'release': 1, 'date': 1, 'Sendok': 1, 'Garpu': 1, 'Serves': 1, 'Indonesian': 1, 'Cuisine': 1, 'Outside': 1, 'Brisbane': 1, 'restaurant': 1, 'Indooroopilly': 1, 'specialties': 1, 'Makes': 1, 'SameSex': 1, 'Marriage': 2, 'Legal': 1, 'weeks': 1, 'national': 1, 'referendum': 1, 'strong': 1, 'support': 1, 'gay': 1, 'marriage': 1, 'Parliament': 1, 'voted': 1, 'overwhelmingly': 1, 'follow': 1, 'lead': 1, 'Wines': 1, 'Resound': 1, 'Memory': 1, 'wine': 1, '“best”': 1, 'little': 1, 'meaning': 1, 'necessarily': 1, 'bottles': 1, 'memorable': 1, '‘SNL’': 1, 'Relentlessly': 1, 'Tackles': 1, 'Sexual': 2, 'Misconduct': 1, 'weekend’s': 1, 'episode': 1, 'children': 1, 'Santa': 3, 'questions': 1, '“What': 1, 'Al': 2, 'Franken': 1, 'do”': 1, '“Is': 1, 'naughty': 1, 'list”': 1, 'Angeles’s': 2, 'Power': 2, 'Brokers': 2, '‘Budtenders’': 1, 'Sensuality': 1, 'circles': 1, 'teas': 1, 'Expensive': 1, 'vape': 1, 'pens': 1, 'there’s': 1, 'intellectual': 1, 'life': 1, 'fine': 1, 'Importance': 2, 'Dumb': 2, 'Mistakes': 2, 'College': 4, 'JIM': 1, 'REISCHE': 1, 'Students': 2, 'deserve': 1, 'chance': 1, 'try': 1, 'ideas': 1, 'incurring': 1, 'wrath': 1, 'entire': 1, 'internet': 1, 'Grew': 1, 'Korean': 1, 'Beauty': 1, 'Products': 1, 'America': 2, 'You’ve': 1, 'EUNY': 1, 'HONG': 1, 'pedestrian': 1, 'origin': 1, 'story': 3, 'triple': 1, 'cleanse': 1, 'snail': 1, 'slime': 1, 'serum': 1, 'Editorial': 1, 'Looting': 1, 'America’s': 1, 'Public': 1, 'Lands': 1, 'Bruni': 1, 'Abomination': 1, 'Monster': 1, 'That’s': 1, 'Douthat': 1, 'Empire': 1, 'Dowd': 1, 'Roadkill': 1, 'Capitol': 1, 'Hill': 1, 'Loose': 2, 'Office': 3, 'Secret': 2, 'Guidelines': 2, 'FAITH': 1, 'SALIE': 1, 'Remember': 1, 'voluntary': 1, 'forcing': 1, 'participate': 1, 'gift': 1, 'giving': 1, 'Collins': 1, 'Franken’s': 1, 'Moment': 1, 'Call': 2, 'Evangelical': 2, 'Republican': 2, 'Russia': 1, 'Tried': 1, 'Cheat': 1, 'Glory': 1, 'Palestinians’': 1, 'Dashed': 1, 'Hopes': 1, 'ccolumncolumn': 1, 'sectionopinion': 1, 'div': 1, 'pthemecomments': 1, 'displaynone': 1, 'User': 1, 'Subscriptions': 5, 'Night': 2, 'Desk': 2, 'Tweeting': 2, 'Starts': 2, 'Journalist': 1, 'Wrestles': 1, 'Candor': 1, 'Egyptian': 1, 'Woman': 1, 'Insider': 2, 'raquo': 33, 'Crossword': 4, 'Play': 2, 'Todayrsquos': 2, 'Puzzle': 2, 'Wordplay': 1, 'Watching': 2, 'Neediest': 2, 'Sober': 1, 'Surrounded': 1, 'Drinkers': 1, '“The': 1, 'doesn’t': 2, 'stop': 1, 'sober”': 1, 'Michael': 1, 'McGarry': 1, 'clean': 1, 'judge': 1, 'ruled': 1, 'sent': 1, 'residential': 1, 'drug': 1, 'rehabilitation': 1, 'center': 1, '106th': 1, 'Fund': 1, 'provided': 1, 'direct': 1, 'assistance': 1, 'struggling': 1, 'beyond': 1, 'Donate': 1, 'Advertisers': 1, 'Loading': 2, 'times': 1, 'video': 1, 'explore': 1, 'videos': 1, 'Player': 1, 'Nytimescom': 1, 'previous': 1, 'Screens': 1, 'Titles': 1, '‘Wonder’': 1, 'Scoundrel': 1, 'Theory': 1, 'American': 2, 'idea': 1, 'candidate’s': 1, 'character': 1, 'matter': 1, 'pervasive': 1, 'pernicious': 1, 'Sleep': 1, 'vs': 1, 'Exercise': 1, 'What’s': 1, 'Streaming': 1, 'Don’t': 1, 'Kids': 1, 'Gifts': 1, 'Spy': 1, 'Hummingbirds': 1, 'Bees': 1, 'Feathers': 1, 'Modern': 1, 'Love': 4, 'Scrabble': 1, 'Save': 1, 'Kids’': 1, 'Care': 1, 'governors': 1, 'warn': 1, 'families': 1, 'suffer': 1, 'Congress': 1, 'fails': 1, 'reauthorize': 1, 'CHIP': 1, 'Children’s': 1, 'Insurance': 2, 'Program': 1, 'Live': 1, 'Cocktail': 1, 'Sick': 1, 'Spinach': 2, 'Lasagna': 2, 'Worthy': 2, 'Feast': 2, 'Deal': 2, 'Adopted': 1, 'Black': 2, 'Baby': 1, 'Replaced': 1, 'White': 1, 'Venezuelans': 1, 'Fleeing': 1, 'Crisis': 3, 'Means': 1, '‘Starting': 1, 'Zero’': 1, '90': 1, '‘Difficult’': 1, '‘Intense’': 1, 'Arab': 1, 'Jew': 1, 'Day': 1, 'Plans': 1, 'Marriott': 1, 'Starwood’s': 1, 'Culture': 1, 'Cool': 1, 'Customers': 1, 'Fingerling': 1, 'Caught': 1, 'Robot': 1, 'Grip': 1, '2017’s': 1, 'Hot': 1, 'Toy': 1, 'Peter': 1, 'Wehner': 1, 'Campus': 1, 'Worries': 1, 'Fairness': 1, 'Policy': 1, 'Officer': 1, 'Fatally': 1, 'Shooting': 1, 'Unarmed': 1, 'Pleading': 1, 'Technology': 2, 'Southeast': 2, 'Asia’s': 2, 'RideHailing': 2, 'War': 3, 'Waged': 2, 'Motorbikes': 2, 'Apple': 1, 'Acquiring': 1, 'Shazam': 1, 'Song': 1, 'Identifying': 1, 'App': 1, 'Opposition': 1, 'Net': 1, 'Neutrality': 1, 'Repeal': 1, 'Lead': 1, 'City': 4, 'Ballet': 1, 'Martins': 1, 'Probe': 1, 'Despite': 1, 'History': 2, 'Unruly': 1, 'Surprise': 1, 'Return': 2, 'Fashion': 2, 'Ho': 3, 'Parties': 1, 'Feel': 1, 'Chill': 1, 'DNA': 1, 'Tattoos': 1, 'Final': 1, 'Frontier': 1, 'Hey': 1, '‘Budtender’': 1, 'Pot': 1, 'Crank': 1, 'Kook': 1, '‘Coco’': 1, 'Death': 1, 'Bela': 1, 'Forgotten': 1, 'Orphan': 1, 'Herbs': 1, 'Underground': 1, 'Talk': 1, 'Balthus': 1, 'Angels': 1, 'Unveil': 1, 'Shohei': 1, 'Ohtani': 1, 'Exudes': 1, 'Promise': 1, 'Prudence': 1, 'It’s': 2, 'Sluggers': 1, 'Inc': 1, 'Joins': 1, 'Baseball': 1, 'Delight': 1, 'Theater': 3, 'Review': 3, 'Dreaming': 1, '‘Home’': 1, 'Magical': 1, 'Underwear': 1, 'Journey': 1, 'Calais': 1, 'Jungle': 1, 'London': 1, 'Stage': 1, 'Trilobites': 2, '‘Hear’': 1, 'Silent': 1, 'GIFs': 1, 'Learned': 1, 'Actually': 1, 'Sausage': 1, 'Obituaries': 2, 'Tracy': 1, 'Stallard': 1, 'Historic': 1, 'Maris': 1, 'Homer': 1, 'Dies': 3, '80': 1, 'Leslie': 1, 'Wolfe': 1, 'Pursued': 1, 'Equality': 1, '74': 1, 'Ron': 1, 'Meyer': 1, 'Coached': 1, 'SMU': 1, 'Football': 1, 'Title': 2, '76': 1, 'Television': 2, '‘The': 2, 'Crown’': 2, 'Season': 2, '2': 1, 'Takes': 1, 'Queen': 1, 'Look': 2, '1': 1, '‘Transparent’': 1, 'Accusations': 1, 'Jeffrey': 1, 'Tambor': 1, 'Burst': 1, 'Idealistic': 1, 'Bubble': 1, 'Prescription': 1, 'Drugs': 1, 'Cost': 1, 'Age': 1, 'Smokers': 1, 'Vaping': 1, 'Bad': 1, 'Idea': 1, 'Supplements': 1, 'Claiming': 1, 'Ease': 1, 'Opioid': 1, 'Addiction': 1, 'Scrutiny': 1, 'Haiti': 1, 'Tracing': 1, 'Paradise': 1, 'Lost': 1, 'Oberoi': 1, 'Hotel': 1, 'Delhi': 1, 'Major': 2, 'Makeover': 1, '13': 1, 'Favorite': 2, 'Books': 5, 'Critics’': 1, 'Polite': 1, 'Drive': 1, 'Secession': 1, '‘Radio': 1, 'Free': 1, 'Vermont’': 1, 'Education': 4, 'Colleges': 1, 'Applicant': 1, 'Getting': 2, 'Dream': 1, 'Six': 1, 'Myths': 1, 'Choosing': 1, 'Hungry': 1, 'Cheap': 1, 'Eats': 1, 'Global': 1, 'Flavors': 1, 'Appetite': 1, 'Pamper': 1, 'Guests': 1, 'Gougères': 1, 'Kitchen': 1, 'Feature': 1, 'Takedown': 1, 'IX': 1, 'Notebook': 1, 'Performers': 1, 'Horror': 1, 'TechnoMoral': 1, 'Panic': 1, 'Prewar': 1, 'Twist': 1, 'Home': 3, 'Christmas': 1, 'Lights': 1, 'Micro': 1, 'Units': 1, 'Lending': 1, 'Library': 1, 'Upshot': 1, 'Doctor': 1, 'Hard': 1, 'Harder': 1, 'Happened': 1, 'Boomtown': 1, 'Effective': 1, 'School': 1, 'District': 1, 'Measure': 1, 'Ferret': 1, '‘Salvator': 1, 'Mundi’': 1, 'Buyer': 1, 'We’re': 2, 'Reading': 2, 'Automobiles': 2, 'Ford': 1, 'Build': 1, 'Electric': 1, 'Cars': 1, 'Mexico': 1, 'Shifting': 1, 'China’s': 1, 'AI': 1, 'Advances': 1, 'Industry': 1, 'Security': 1, 'Host': 1, 'Dinner': 1, 'Party': 1, 'JayZ': 1, 'Discusses': 1, 'Rap': 1, 'Clothing': 1, 'Line': 1, 'Simplifies': 1, 'Dressed': 1, 'Landlord': 1, 'Prevent': 1, 'Package': 1, 'Theft': 1, 'RONDA': 1, 'KAYSEN': 1, 'tenant': 1, 'wonders': 1, 'landlord': 1, 'improve': 1, 'security': 1, 'packages': 1, 'Homes': 1, 'Sale': 2, 'Rent': 1, 'Mortgage': 1, 'Calculator': 1, 'Emailed': 1, 'Viewed': 1, 'Trending': 1, 'Recommended': 1, 'Index': 2, 'Todays': 3, 'Corrections': 1, 'OpEd': 2, 'Columnists': 1, 'Editorials': 1, 'Contributors': 1, 'Letters': 1, 'Design': 1, 'Dance': 1, 'Music': 1, 'NYC': 3, 'Events': 3, 'Jobs': 1, 'Weddings': 1, 'Celebrations': 1, 'Listings': 1, 'Reader': 1, 'Center': 1, 'Classifieds': 1, 'Tools': 1, 'Services': 1, 'Photography': 1, 'NYT': 1, 'Store': 1, 'Journeys': 1, 'Manage': 1, 'Account': 1, 'NYTCo': 1, 'Delivery': 1, 'Digital': 1, 'Email': 1, 'Newsletters': 1, 'Alerts': 1, 'Rate': 1, 'Applications': 1, 'Replica': 1, 'Information': 2, 'copy': 1, 'Company': 1, 'Contact': 1, 'Advertise': 1, 'Ad': 1, 'Choices': 1, 'Privacy': 1, 'Terms': 2, 'Service': 1, 'Map': 1, 'Feedback': 1, 'View': 1, 'Version': 1}\n"
     ]
    },
    {
     "ename": "HTTPError",
     "evalue": "HTTP Error 503: Service Unavailable",
     "output_type": "error",
     "traceback": [
      "\u001b[1;31m---------------------------------------------------------------------------\u001b[0m",
      "\u001b[1;31mHTTPError\u001b[0m                                 Traceback (most recent call last)",
      "\u001b[1;32m<ipython-input-47-fc6dcdb2a1e7>\u001b[0m in \u001b[0;36m<module>\u001b[1;34m()\u001b[0m\n\u001b[0;32m     25\u001b[0m     \u001b[1;32mfrom\u001b[0m \u001b[0murllib\u001b[0m \u001b[1;32mimport\u001b[0m \u001b[0mrequest\u001b[0m      \u001b[1;31m#사이트 url 받아옴\u001b[0m\u001b[1;33m\u001b[0m\u001b[0m\n\u001b[0;32m     26\u001b[0m     \u001b[0mu\u001b[0m \u001b[1;33m=\u001b[0m \u001b[0mw1\u001b[0m\u001b[1;33m.\u001b[0m\u001b[0ml\u001b[0m\u001b[1;33m[\u001b[0m\u001b[0mz\u001b[0m\u001b[1;33m]\u001b[0m\u001b[1;33m\u001b[0m\u001b[0m\n\u001b[1;32m---> 27\u001b[1;33m     \u001b[0mf\u001b[0m \u001b[1;33m=\u001b[0m \u001b[0mrequest\u001b[0m\u001b[1;33m.\u001b[0m\u001b[0murlopen\u001b[0m\u001b[1;33m(\u001b[0m\u001b[0mu\u001b[0m\u001b[1;33m)\u001b[0m\u001b[1;33m\u001b[0m\u001b[0m\n\u001b[0m\u001b[0;32m     28\u001b[0m     \u001b[0msource_bytes\u001b[0m \u001b[1;33m=\u001b[0m \u001b[0mf\u001b[0m\u001b[1;33m.\u001b[0m\u001b[0mread\u001b[0m\u001b[1;33m(\u001b[0m\u001b[1;33m)\u001b[0m\u001b[1;33m\u001b[0m\u001b[0m\n\u001b[0;32m     29\u001b[0m     \u001b[0msource\u001b[0m \u001b[1;33m=\u001b[0m \u001b[0msource_bytes\u001b[0m\u001b[1;33m.\u001b[0m\u001b[0mdecode\u001b[0m\u001b[1;33m(\u001b[0m\u001b[1;34m'utf-8'\u001b[0m\u001b[1;33m)\u001b[0m\u001b[1;33m\u001b[0m\u001b[0m\n",
      "\u001b[1;32mC:\\Users\\tjddu\\Anaconda3\\lib\\urllib\\request.py\u001b[0m in \u001b[0;36murlopen\u001b[1;34m(url, data, timeout, cafile, capath, cadefault, context)\u001b[0m\n\u001b[0;32m    221\u001b[0m     \u001b[1;32melse\u001b[0m\u001b[1;33m:\u001b[0m\u001b[1;33m\u001b[0m\u001b[0m\n\u001b[0;32m    222\u001b[0m         \u001b[0mopener\u001b[0m \u001b[1;33m=\u001b[0m \u001b[0m_opener\u001b[0m\u001b[1;33m\u001b[0m\u001b[0m\n\u001b[1;32m--> 223\u001b[1;33m     \u001b[1;32mreturn\u001b[0m \u001b[0mopener\u001b[0m\u001b[1;33m.\u001b[0m\u001b[0mopen\u001b[0m\u001b[1;33m(\u001b[0m\u001b[0murl\u001b[0m\u001b[1;33m,\u001b[0m \u001b[0mdata\u001b[0m\u001b[1;33m,\u001b[0m \u001b[0mtimeout\u001b[0m\u001b[1;33m)\u001b[0m\u001b[1;33m\u001b[0m\u001b[0m\n\u001b[0m\u001b[0;32m    224\u001b[0m \u001b[1;33m\u001b[0m\u001b[0m\n\u001b[0;32m    225\u001b[0m \u001b[1;32mdef\u001b[0m \u001b[0minstall_opener\u001b[0m\u001b[1;33m(\u001b[0m\u001b[0mopener\u001b[0m\u001b[1;33m)\u001b[0m\u001b[1;33m:\u001b[0m\u001b[1;33m\u001b[0m\u001b[0m\n",
      "\u001b[1;32mC:\\Users\\tjddu\\Anaconda3\\lib\\urllib\\request.py\u001b[0m in \u001b[0;36mopen\u001b[1;34m(self, fullurl, data, timeout)\u001b[0m\n\u001b[0;32m    530\u001b[0m         \u001b[1;32mfor\u001b[0m \u001b[0mprocessor\u001b[0m \u001b[1;32min\u001b[0m \u001b[0mself\u001b[0m\u001b[1;33m.\u001b[0m\u001b[0mprocess_response\u001b[0m\u001b[1;33m.\u001b[0m\u001b[0mget\u001b[0m\u001b[1;33m(\u001b[0m\u001b[0mprotocol\u001b[0m\u001b[1;33m,\u001b[0m \u001b[1;33m[\u001b[0m\u001b[1;33m]\u001b[0m\u001b[1;33m)\u001b[0m\u001b[1;33m:\u001b[0m\u001b[1;33m\u001b[0m\u001b[0m\n\u001b[0;32m    531\u001b[0m             \u001b[0mmeth\u001b[0m \u001b[1;33m=\u001b[0m \u001b[0mgetattr\u001b[0m\u001b[1;33m(\u001b[0m\u001b[0mprocessor\u001b[0m\u001b[1;33m,\u001b[0m \u001b[0mmeth_name\u001b[0m\u001b[1;33m)\u001b[0m\u001b[1;33m\u001b[0m\u001b[0m\n\u001b[1;32m--> 532\u001b[1;33m             \u001b[0mresponse\u001b[0m \u001b[1;33m=\u001b[0m \u001b[0mmeth\u001b[0m\u001b[1;33m(\u001b[0m\u001b[0mreq\u001b[0m\u001b[1;33m,\u001b[0m \u001b[0mresponse\u001b[0m\u001b[1;33m)\u001b[0m\u001b[1;33m\u001b[0m\u001b[0m\n\u001b[0m\u001b[0;32m    533\u001b[0m \u001b[1;33m\u001b[0m\u001b[0m\n\u001b[0;32m    534\u001b[0m         \u001b[1;32mreturn\u001b[0m \u001b[0mresponse\u001b[0m\u001b[1;33m\u001b[0m\u001b[0m\n",
      "\u001b[1;32mC:\\Users\\tjddu\\Anaconda3\\lib\\urllib\\request.py\u001b[0m in \u001b[0;36mhttp_response\u001b[1;34m(self, request, response)\u001b[0m\n\u001b[0;32m    640\u001b[0m         \u001b[1;32mif\u001b[0m \u001b[1;32mnot\u001b[0m \u001b[1;33m(\u001b[0m\u001b[1;36m200\u001b[0m \u001b[1;33m<=\u001b[0m \u001b[0mcode\u001b[0m \u001b[1;33m<\u001b[0m \u001b[1;36m300\u001b[0m\u001b[1;33m)\u001b[0m\u001b[1;33m:\u001b[0m\u001b[1;33m\u001b[0m\u001b[0m\n\u001b[0;32m    641\u001b[0m             response = self.parent.error(\n\u001b[1;32m--> 642\u001b[1;33m                 'http', request, response, code, msg, hdrs)\n\u001b[0m\u001b[0;32m    643\u001b[0m \u001b[1;33m\u001b[0m\u001b[0m\n\u001b[0;32m    644\u001b[0m         \u001b[1;32mreturn\u001b[0m \u001b[0mresponse\u001b[0m\u001b[1;33m\u001b[0m\u001b[0m\n",
      "\u001b[1;32mC:\\Users\\tjddu\\Anaconda3\\lib\\urllib\\request.py\u001b[0m in \u001b[0;36merror\u001b[1;34m(self, proto, *args)\u001b[0m\n\u001b[0;32m    568\u001b[0m         \u001b[1;32mif\u001b[0m \u001b[0mhttp_err\u001b[0m\u001b[1;33m:\u001b[0m\u001b[1;33m\u001b[0m\u001b[0m\n\u001b[0;32m    569\u001b[0m             \u001b[0margs\u001b[0m \u001b[1;33m=\u001b[0m \u001b[1;33m(\u001b[0m\u001b[0mdict\u001b[0m\u001b[1;33m,\u001b[0m \u001b[1;34m'default'\u001b[0m\u001b[1;33m,\u001b[0m \u001b[1;34m'http_error_default'\u001b[0m\u001b[1;33m)\u001b[0m \u001b[1;33m+\u001b[0m \u001b[0morig_args\u001b[0m\u001b[1;33m\u001b[0m\u001b[0m\n\u001b[1;32m--> 570\u001b[1;33m             \u001b[1;32mreturn\u001b[0m \u001b[0mself\u001b[0m\u001b[1;33m.\u001b[0m\u001b[0m_call_chain\u001b[0m\u001b[1;33m(\u001b[0m\u001b[1;33m*\u001b[0m\u001b[0margs\u001b[0m\u001b[1;33m)\u001b[0m\u001b[1;33m\u001b[0m\u001b[0m\n\u001b[0m\u001b[0;32m    571\u001b[0m \u001b[1;33m\u001b[0m\u001b[0m\n\u001b[0;32m    572\u001b[0m \u001b[1;31m# XXX probably also want an abstract factory that knows when it makes\u001b[0m\u001b[1;33m\u001b[0m\u001b[1;33m\u001b[0m\u001b[0m\n",
      "\u001b[1;32mC:\\Users\\tjddu\\Anaconda3\\lib\\urllib\\request.py\u001b[0m in \u001b[0;36m_call_chain\u001b[1;34m(self, chain, kind, meth_name, *args)\u001b[0m\n\u001b[0;32m    502\u001b[0m         \u001b[1;32mfor\u001b[0m \u001b[0mhandler\u001b[0m \u001b[1;32min\u001b[0m \u001b[0mhandlers\u001b[0m\u001b[1;33m:\u001b[0m\u001b[1;33m\u001b[0m\u001b[0m\n\u001b[0;32m    503\u001b[0m             \u001b[0mfunc\u001b[0m \u001b[1;33m=\u001b[0m \u001b[0mgetattr\u001b[0m\u001b[1;33m(\u001b[0m\u001b[0mhandler\u001b[0m\u001b[1;33m,\u001b[0m \u001b[0mmeth_name\u001b[0m\u001b[1;33m)\u001b[0m\u001b[1;33m\u001b[0m\u001b[0m\n\u001b[1;32m--> 504\u001b[1;33m             \u001b[0mresult\u001b[0m \u001b[1;33m=\u001b[0m \u001b[0mfunc\u001b[0m\u001b[1;33m(\u001b[0m\u001b[1;33m*\u001b[0m\u001b[0margs\u001b[0m\u001b[1;33m)\u001b[0m\u001b[1;33m\u001b[0m\u001b[0m\n\u001b[0m\u001b[0;32m    505\u001b[0m             \u001b[1;32mif\u001b[0m \u001b[0mresult\u001b[0m \u001b[1;32mis\u001b[0m \u001b[1;32mnot\u001b[0m \u001b[1;32mNone\u001b[0m\u001b[1;33m:\u001b[0m\u001b[1;33m\u001b[0m\u001b[0m\n\u001b[0;32m    506\u001b[0m                 \u001b[1;32mreturn\u001b[0m \u001b[0mresult\u001b[0m\u001b[1;33m\u001b[0m\u001b[0m\n",
      "\u001b[1;32mC:\\Users\\tjddu\\Anaconda3\\lib\\urllib\\request.py\u001b[0m in \u001b[0;36mhttp_error_default\u001b[1;34m(self, req, fp, code, msg, hdrs)\u001b[0m\n\u001b[0;32m    648\u001b[0m \u001b[1;32mclass\u001b[0m \u001b[0mHTTPDefaultErrorHandler\u001b[0m\u001b[1;33m(\u001b[0m\u001b[0mBaseHandler\u001b[0m\u001b[1;33m)\u001b[0m\u001b[1;33m:\u001b[0m\u001b[1;33m\u001b[0m\u001b[0m\n\u001b[0;32m    649\u001b[0m     \u001b[1;32mdef\u001b[0m \u001b[0mhttp_error_default\u001b[0m\u001b[1;33m(\u001b[0m\u001b[0mself\u001b[0m\u001b[1;33m,\u001b[0m \u001b[0mreq\u001b[0m\u001b[1;33m,\u001b[0m \u001b[0mfp\u001b[0m\u001b[1;33m,\u001b[0m \u001b[0mcode\u001b[0m\u001b[1;33m,\u001b[0m \u001b[0mmsg\u001b[0m\u001b[1;33m,\u001b[0m \u001b[0mhdrs\u001b[0m\u001b[1;33m)\u001b[0m\u001b[1;33m:\u001b[0m\u001b[1;33m\u001b[0m\u001b[0m\n\u001b[1;32m--> 650\u001b[1;33m         \u001b[1;32mraise\u001b[0m \u001b[0mHTTPError\u001b[0m\u001b[1;33m(\u001b[0m\u001b[0mreq\u001b[0m\u001b[1;33m.\u001b[0m\u001b[0mfull_url\u001b[0m\u001b[1;33m,\u001b[0m \u001b[0mcode\u001b[0m\u001b[1;33m,\u001b[0m \u001b[0mmsg\u001b[0m\u001b[1;33m,\u001b[0m \u001b[0mhdrs\u001b[0m\u001b[1;33m,\u001b[0m \u001b[0mfp\u001b[0m\u001b[1;33m)\u001b[0m\u001b[1;33m\u001b[0m\u001b[0m\n\u001b[0m\u001b[0;32m    651\u001b[0m \u001b[1;33m\u001b[0m\u001b[0m\n\u001b[0;32m    652\u001b[0m \u001b[1;32mclass\u001b[0m \u001b[0mHTTPRedirectHandler\u001b[0m\u001b[1;33m(\u001b[0m\u001b[0mBaseHandler\u001b[0m\u001b[1;33m)\u001b[0m\u001b[1;33m:\u001b[0m\u001b[1;33m\u001b[0m\u001b[0m\n",
      "\u001b[1;31mHTTPError\u001b[0m: HTTP Error 503: Service Unavailable"
     ]
    }
   ],
   "source": [
    "#-*- encoding: utf-8 -*-\n",
    "import string\n",
    "import pickle\n",
    "i = 0\n",
    "t = 0\n",
    "j =0\n",
    "s= ''\n",
    "k =0\n",
    "class  WebWordsFrequency:\n",
    "    def __init__(self, *url):\n",
    "        self.l = []\n",
    "        self.l = list(url)\n",
    "    def addUrl(self,u):\n",
    "        self.l.append(u)\n",
    "    def removeUrl(self,u):\n",
    "        self.l.remove(u)\n",
    "    def listUrls(self):\n",
    "        for x in range(0, len(self.l)):\n",
    "            print(self.l[x])\n",
    "w1 = WebWordsFrequency('http://www.cnn.com', 'http://www.times.com', 'https://www.amazon.com')\n",
    "w1.addUrl('https://github.com')\n",
    "w1.removeUrl('http://www.cnn.com')\n",
    "w1.listUrls()\n",
    "for z in range(0, len(w1.l)):\n",
    "    from urllib import request      #사이트 url 받아옴\n",
    "    u = w1.l[z]\n",
    "    f = request.urlopen(u)\n",
    "    source_bytes = f.read()\n",
    "    source = source_bytes.decode('utf-8')\n",
    "    source2 = ''\n",
    "    source3 = ''\n",
    "    source4 = ''\n",
    "    while(True):\n",
    "        if j== len(source):\n",
    "            break\n",
    "        script_p = source.find('<script', j)\n",
    "        source3 = source3 +  source[j]\n",
    "        j += 1\n",
    "        if j == script_p:\n",
    "            script_p = source.find('</script>', j)\n",
    "            while(True):\n",
    "                j += 1\n",
    "                if j == script_p:\n",
    "                    j += 9\n",
    "                    break\n",
    "\n",
    "    while(True):\n",
    "        if k== len(source3):\n",
    "            break\n",
    "        script_p = source3.find('<style', k)\n",
    "        source4 = source4 +  source3[k]\n",
    "        k += 1\n",
    "        if k == script_p:\n",
    "            script_p = source3.find('</style>', k)\n",
    "            while(True):\n",
    "                k += 1\n",
    "                if k == script_p:\n",
    "                    k += 8\n",
    "                    break\n",
    "    for x in source4:           #url의 문자를 하나씩 읽어들임\n",
    "        if i== len(source4):\n",
    "            break\n",
    "        if source4[i] == '<':      #<!--으로 시작해서 -->가 나올 때 까지 생략\n",
    "            i += 1\n",
    "            if source4[i] == '!':\n",
    "                i += 1\n",
    "                if source4[i] == '-':\n",
    "                    i += 1\n",
    "                    if source4[i] == '-':\n",
    "                        i+=1\n",
    "                        t += 1\n",
    "                        while(True):\n",
    "                            i+=1\n",
    "                            if source4[i] == '-':\n",
    "                                i += 1\n",
    "                                if source4[i] == '-':\n",
    "                                    i+=1\n",
    "                                    if source4[i] == '>':\n",
    "                                        i +=1\n",
    "                                        t -=1\n",
    "                                        break\n",
    "                else:\n",
    "                    t += 1\n",
    "                    while(True):   #<!로 시작해서 >로가 나올 때까지 생략\n",
    "                        i+=1\n",
    "                        if source4[i] == '>':\n",
    "                            t -= 1\n",
    "                            i+=1\n",
    "                            source2 = source2 + ' '\n",
    "                            break\n",
    "            else:\n",
    "                t += 1\n",
    "                while(True):#<로 시작해서 >가 나올때까지 생략\n",
    "                    i+=1\n",
    "                    if source4[i] == '>':\n",
    "                        t -= 1\n",
    "                        i+=1\n",
    "                        source2 = source2 + ' '\n",
    "                        break  \n",
    "        if i== len(source4):\n",
    "            break\n",
    "        if t == 0 and source4[i] != '<':  #조건을 만족하면 새로운 리스트에 저장\n",
    "            source2 = source2 + source4[i]\n",
    "            i += 1\n",
    "    list=source2.split()\n",
    "\n",
    "    for x in list:\n",
    "        for y in x:\n",
    "            y = y.translate(str.maketrans('','',string.punctuation))\n",
    "            s = s + y\n",
    "        s = s + ' '\n",
    "    list = s.split()\n",
    "    d = (0,)\n",
    "    for x in range(0, len(list)):\n",
    "        d += (0,)\n",
    "    dic = dict(zip(list,d))\n",
    "    cnt =0\n",
    "    for x in dic:\n",
    "        for y in list:\n",
    "            if x == y:\n",
    "                dic[x] += 1\n",
    "    f.close()\n",
    "    f2 = open('stop words.txt')\n",
    "    l = f2.read()\n",
    "    l2 = l.split()\n",
    "    for x in l2:\n",
    "        if (x in dic) == True:\n",
    "            del dic[x]\n",
    "        if (x.capitalize() in dic) == True:\n",
    "            del dic[x.capitalize()]\n",
    "    f2.close()\n",
    "\n",
    "\n",
    "    f2 = open('stop words.txt')\n",
    "    l = f2.read()\n",
    "    l2 = l.split()\n",
    "    for x in l2:\n",
    "        if (x in dic) == True:\n",
    "            del dic[x]\n",
    "        if (x.capitalize() in dic) == True:\n",
    "            del dic[x.capitalize()]\n",
    "    f2.close()\n",
    "    print(dic)\n",
    "\n",
    "def cmd(a):\n",
    "    return a[1]\n",
    "\n"
   ]
  },
  {
   "cell_type": "code",
   "execution_count": 3,
   "metadata": {},
   "outputs": [
    {
     "name": "stdout",
     "output_type": "stream",
     "text": [
      "http://www.times.com\n",
      "https://www.amazon.com\n",
      "https://github.com\n",
      "['http://www.times.com', 'https://www.amazon.com', 'https://github.com']\n"
     ]
    }
   ],
   "source": [
    "class  WebWordsFrequency:\n",
    "    def __init__(self, *url):\n",
    "        self.l = []\n",
    "        self.l = list(url)\n",
    "    def addUrl(self,u):\n",
    "        self.l.append(u)\n",
    "    def removeUrl(self,u):\n",
    "        self.l.remove(u)\n",
    "    def listUrls(self):\n",
    "        for x in range(0, len(self.l)):\n",
    "            print(self.l[x])\n",
    "w1 = WebWordsFrequency('http://www.cnn.com', 'http://www.times.com', 'https://www.amazon.com')\n",
    "w3 =WebWordsFrequency()\n",
    "w1.addUrl('https://github.com')\n",
    "w1.removeUrl('http://www.cnn.com')\n",
    "w1.listUrls()\n",
    "print(w1.l)"
   ]
  },
  {
   "cell_type": "markdown",
   "metadata": {
    "collapsed": true
   },
   "source": [
    "    <설명>\n",
    "    - WebWordsFrequency라는 클래스를 생성합니다.\n",
    "    - 생성자에서는 리스트를 생성하고 url을 가변인수로 받아서 여러개의 url을 리스트에 넣습니다.\n",
    "    - url을 리스트에 추가하는 addUrl함수를 정의하는데 여기서 append()를 이용하여 리스트 l에 추가해줍니다.\n",
    "    - 반대로 리스트를 제거하는 removeUrl함수를 정의하는데 remove()를 이용하여 리스트에서 뺴버립니다.\n",
    "    - 지금까지 리스트l에 저장된 url을 확인하는 listUrls을 정의하는데 for을 이용하여 원소의 개수를 세주고 각 원소를 처음부터 출력합니다.\n",
    "    - 마지막으로 w1에 각 함수를 사용하여 결과를 확인합니다.\n",
    "    "
   ]
  },
  {
   "cell_type": "markdown",
   "metadata": {
    "collapsed": true
   },
   "source": [
    "## 느낀점"
   ]
  },
  {
   "cell_type": "markdown",
   "metadata": {},
   "source": [
    "    - 지금까지 해온 과제에서 추가로 코딩을 하는 것이라 이번 과제에서 가장 어려움을 느꼈습니다.상속과 다형성에 대해서 공부할 수 있었고 클래스와 다양한 함수 구현을 하면서 파이썬의 편함을 느꼈습니다. 과제를 다 끝내지는 못 했지만 나름 결과를 얻음으로써 보람을 느꼈고 더 많은 공부의 필요성을 얻었습니다."
   ]
  }
 ],
 "metadata": {
  "kernelspec": {
   "display_name": "Python 3",
   "language": "python",
   "name": "python3"
  },
  "language_info": {
   "codemirror_mode": {
    "name": "ipython",
    "version": 3
   },
   "file_extension": ".py",
   "mimetype": "text/x-python",
   "name": "python",
   "nbconvert_exporter": "python",
   "pygments_lexer": "ipython3",
   "version": "3.6.1"
  }
 },
 "nbformat": 4,
 "nbformat_minor": 2
}
